{
 "cells": [
  {
   "cell_type": "markdown",
   "metadata": {},
   "source": [
    "# Opérations, variables et affectation - Exercices\n",
    "Exercices pour maîtriser les premières notions\n",
    "\n",
    "---"
   ]
  },
  {
   "cell_type": "markdown",
   "metadata": {},
   "source": [
    "### Exercice 1 - Avec 3 variables\n",
    "Qu'affiche le programme suivant :\n",
    ">```python\n",
    "x = 2\n",
    "y = -3\n",
    "z = x + y\n",
    "print(2*z)\n",
    "```\n",
    "\n",
    "Le vérifier dans la cellule ci-dessous"
   ]
  },
  {
   "cell_type": "code",
   "execution_count": null,
   "metadata": {
    "collapsed": true
   },
   "outputs": [],
   "source": [
    "# Vérification exercice 1\n"
   ]
  },
  {
   "cell_type": "markdown",
   "metadata": {},
   "source": [
    "---\n",
    "<!-- Solution\n",
    "\n",
    "\n",
    "-2\n",
    "\n",
    "\n",
    "-->"
   ]
  },
  {
   "cell_type": "markdown",
   "metadata": {},
   "source": [
    "### Exercice 2 - Les types\n",
    "On considère le programme suivant :\n",
    ">```python\n",
    "a = 10         # ligne 1\n",
    "b = \"Toto\"     # ligne 2\n",
    "c = b          # ligne 3\n",
    "b = 2          # ligne 4\n",
    "print(c, a/b)  # ligne 5\n",
    "```\n",
    "\n",
    "1. Quel est le type de **`a`** dans la ligne 1 ?\n",
    "1. Quel est le type de **`b`** dans la ligne 2 ?\n",
    "1. Quel est le type de **`a/b`** dans la ligne 5 ?\n",
    "1. Quel affichage produit ce programme ?"
   ]
  },
  {
   "cell_type": "code",
   "execution_count": null,
   "metadata": {
    "collapsed": true
   },
   "outputs": [],
   "source": [
    "# Vérification exercice 2\n"
   ]
  },
  {
   "cell_type": "markdown",
   "metadata": {},
   "source": [
    "---\n",
    "<!-- Solution\n",
    "\n",
    "1. int\n",
    "2. str\n",
    "3. float\n",
    "4. Toto 5.0\n",
    "\n",
    "\n",
    "-->"
   ]
  },
  {
   "cell_type": "markdown",
   "metadata": {},
   "source": [
    "### Exercice 3 - Entrées et types\n",
    "La fonction **`input`** permet de demander à l'utilisateur de rentrer une donnée au clavier.<br>\n",
    "Généralement, on affecte le résultat de **`input`** à une variable.\n",
    "\n",
    "Par exemple :"
   ]
  },
  {
   "cell_type": "code",
   "execution_count": null,
   "metadata": {
    "collapsed": true
   },
   "outputs": [],
   "source": [
    "NomUtilisateur = input(\"Quel est votre nom ? \")\n",
    "print(\"Bonjour\", NomUtilisateur, \"!\")"
   ]
  },
  {
   "cell_type": "markdown",
   "metadata": {},
   "source": [
    "Dans le programme suivant, vérifier que quelque soit la réponse donnée, le type de la variable est toujours le même."
   ]
  },
  {
   "cell_type": "code",
   "execution_count": null,
   "metadata": {
    "collapsed": true
   },
   "outputs": [],
   "source": [
    "# Cliquer dans la cellule puis 'CTRL-Entrée'pour relancer l'exécution\n",
    "test_type = input(\"Quelle valeur voulez-vous tester ? \")\n",
    "type(test_type)"
   ]
  },
  {
   "cell_type": "markdown",
   "metadata": {},
   "source": [
    "---\n",
    "<!-- Solution\n",
    "\n",
    "\n",
    "str\n",
    "\n",
    "\n",
    "-->"
   ]
  },
  {
   "cell_type": "markdown",
   "metadata": {},
   "source": [
    "### Exercice 4 - Transtypage\n",
    "On peut utiliser les fonctions de changement de type **`int`** et **`float`**.<br>\n",
    "1. Tester ces deux fonctions en fournissant des valeurs variées :"
   ]
  },
  {
   "cell_type": "code",
   "execution_count": null,
   "metadata": {
    "collapsed": true
   },
   "outputs": [],
   "source": [
    "# Cliquer dans la cellule puis 'CTRL-Entrée'pour relancer l'exécution\n",
    "test_int = int(input(\"Quelle valeur voulez-vous tester ? \"))  # Tentative de conversion en entier\n",
    "print(test_int)\n",
    "type(test_int)"
   ]
  },
  {
   "cell_type": "code",
   "execution_count": null,
   "metadata": {
    "collapsed": true
   },
   "outputs": [],
   "source": [
    "# Cliquer dans la cellule puis 'CTRL-Entrée'pour relancer l'exécution\n",
    "test_float = float(input(\"Quelle valeur voulez-vous tester ? \"))  # Tentative de conversion en flottant\n",
    "print(test_float)\n",
    "type(test_float)"
   ]
  },
  {
   "cell_type": "markdown",
   "metadata": {},
   "source": [
    "<ol start=\"2\">\n",
    "  <li>Dans le programme précédent, tester les réponses comme **`1e2`**, **`5e-3`** et **`0.00001`** et interpréter les résultats obtenus.</li></ol>\n",
    "\n",
    "---\n",
    "\n",
    "Les erreurs d'exécution provoquent l'arrêt du programme. Il est possible de les intercepter (pour par exemple refaire la saisie).\n",
    "\n",
    "\n",
    "À titre d'exemple, voici une méthode pour intercepter une erreur et faire recommencer l'utilisateur."
   ]
  },
  {
   "cell_type": "code",
   "execution_count": null,
   "metadata": {
    "collapsed": true
   },
   "outputs": [],
   "source": [
    "while True:\n",
    "    try:\n",
    "        nombre_entier = int(input(\"Entrez un nombre entier : \"))\n",
    "        break\n",
    "    except:\n",
    "        print(\"/!\\\\ Veuillez recommencer, vous n'avez pas donné un nombre entier !\")"
   ]
  },
  {
   "cell_type": "markdown",
   "metadata": {},
   "source": [
    "---\n",
    "<!-- Solution\n",
    "\n",
    "\n",
    "1. Des nombres décimaux produisent des erreurs dans le premier programme,\n",
    "   les chaînes de caractères produisent également des erreurs...\n",
    "2.\n",
    "    1e2  -> 100\n",
    "   5e-3 -> 0.005\n",
    "0.00001 -> 1e-05\n",
    "\n",
    "\n",
    "-->"
   ]
  },
  {
   "cell_type": "markdown",
   "metadata": {},
   "source": [
    "### Exercice 5 - Moyenne\n",
    "\n",
    "1. Réaliser un programme qui calcule la moyenne de 3 notes :"
   ]
  },
  {
   "cell_type": "code",
   "execution_count": null,
   "metadata": {
    "collapsed": true
   },
   "outputs": [],
   "source": [
    "#---  Entrées   ---#\n",
    "### /!\\ Ne pas tenir compte des erreurs de saisie\n",
    "### /!\\ Il faut transtyper en 'float'\n",
    "\n",
    "\n",
    "\n",
    "#--- Traitement ---#\n",
    "\n",
    "#---   Sortie   ---#\n",
    "### Afficher le message \"La moyenne des 3 notes est :\" suivi de la valeur calculée\n"
   ]
  },
  {
   "cell_type": "markdown",
   "metadata": {},
   "source": [
    "<ol start=\"2\">\n",
    "  <li>Tester le programme réalisé avec les jeux de données suivantes :\n",
    "* Jeu 1 : **`10`** ; **`10`** et **`10`**.\n",
    "* Jeu 2 : **`0`** ; **`10`** et **`20`**.\n",
    "* Jeu 3 : **`-10`** ; **`10`** et **`30`**.\n",
    "</li></ol><br>\n",
    "Dans chaque cas, la moyenne $\\overline{m}$ doit être égale à 10."
   ]
  },
  {
   "cell_type": "markdown",
   "metadata": {},
   "source": [
    "---\n",
    "<!-- Solution\n",
    "\n",
    "\n",
    "a = float(input(\"Première note =?\"))\n",
    "b = float(input(\"Deuxième note =?\"))\n",
    "c = float(input(\"Troisième note =?\"))\n",
    "m = (a + b + c) / 3\n",
    "print(\"La moyenne des 3 notes est :\", m)\n",
    "\n",
    "\n",
    "-->"
   ]
  },
  {
   "cell_type": "markdown",
   "metadata": {},
   "source": [
    "### Exercice 6 - Swap\n",
    "1. Que fait ce programme écrit en langage naturel ?\n",
    " * Demander \"x=?\" et stocker la réponse dans une variable *x*.\n",
    " * Demander \"y=?\" et stocker la réponse dans une variable *y*.\n",
    " * Affecter la valeur *x* à une variable *z*.\n",
    " * Affecter la valeur *y* à la variable *x*.\n",
    " * Affecter la valeur *z* à la variable *y*.\n",
    " * Afficher *x* et *y*.\n",
    "<br><br>\n",
    "1. Le traduire en python puis le tester sur plusieurs exemples."
   ]
  },
  {
   "cell_type": "code",
   "execution_count": null,
   "metadata": {
    "collapsed": true
   },
   "outputs": [],
   "source": [
    "# Faire le programme ici"
   ]
  },
  {
   "cell_type": "markdown",
   "metadata": {},
   "source": [
    "---\n",
    "<!-- Solution\n",
    "\n",
    "\n",
    "1. Le programme échange le contenu des variables x et y\n",
    "2. \n",
    "x = input(\"x=?\")\n",
    "y = input(\"y=?\")\n",
    "z = x\n",
    "x = y\n",
    "y = z\n",
    "print(x,y)\n",
    "\n",
    "\n",
    "-->"
   ]
  },
  {
   "cell_type": "markdown",
   "metadata": {},
   "source": [
    "### Exercice 7 - Du calcul littéral\n",
    "Voici un programme en python :\n",
    ">```python\n",
    "n = int(input(\"n=?\"))\n",
    "a = 2/n\n",
    "b = 1/n + 1/(2*n) + 1/(3*n) + 1/(6*n) # Les parenthèses sont obligatoires ici !\n",
    "print(a, b)\n",
    "print(a == b)   # Le double égal dénote un test logique\n",
    "```\n",
    "\n",
    "Il produit l'affichage suivant :\n",
    ">```\n",
    "n=?99\n",
    "0.020202020202020204 0.0202020202020202\n",
    "False\n",
    "```\n",
    "\n",
    "1. Quel nombre a été choisi dans cet exemple ?\n",
    "1. Calculer $\\frac{1}{n}+\\frac{1}{2n}+\\frac{1}{3n}+\\frac{1}{6n}$ en fonction de $n$.\n",
    "1. Émettre une hypothèse concernant les résultats de programme."
   ]
  },
  {
   "cell_type": "code",
   "execution_count": null,
   "metadata": {
    "collapsed": true
   },
   "outputs": [],
   "source": [
    "# Espace de test\n",
    "while True:\n",
    "    try:\n",
    "        n = int(input(\"n=?\"))\n",
    "        a = 2/n\n",
    "        b = 1/n + 1/(2*n) + 1/(3*n) + 1/(6*n)\n",
    "        print(a, b)\n",
    "        print(a == b)\n",
    "    except:\n",
    "        break\n",
    "# /!\\ Terminer le programme en entrant 'stop' lorsqu'il demande 'n=?'"
   ]
  },
  {
   "cell_type": "markdown",
   "metadata": {},
   "source": [
    "---\n",
    "<!-- Solution\n",
    "\n",
    "\n",
    "1. 99\n",
    "2. 1/n + 1/2n +1/3n + 1/6n = 6/6n + 3/6n + 2/6n + 1/6n = 2/n\n",
    "3. Les résultats ne sont pas identiques parce que les approximations faites dans le calcul de b\n",
    "   se sont accumulées. \n",
    "\n",
    "\n",
    "-->"
   ]
  },
  {
   "cell_type": "markdown",
   "metadata": {},
   "source": [
    "### Exercice 8 - D'autres opérations\n",
    "1. Tester l'opération **`print(`**$a$__`**`__$n$**`)`** où $a$ et $n$ sont des entiers entre 0 et 5."
   ]
  },
  {
   "cell_type": "code",
   "execution_count": null,
   "metadata": {
    "collapsed": true
   },
   "outputs": [],
   "source": [
    "while True:\n",
    "    try:\n",
    "        a = int(input(\"a=?\"))\n",
    "        n = int(input(\"n=?\"))\n",
    "        print(a**n)\n",
    "    except:\n",
    "        break\n",
    "# /!\\ Terminer le programme en entrant 'stop' lorsqu'il demande 'a=?'"
   ]
  },
  {
   "cell_type": "markdown",
   "metadata": {},
   "source": [
    "<ol start=\"2\">\n",
    "  <li>Tester l'opération **`print(`**$a$ __`//`__ $n$**`)`** où $a$ est un entier et $n\\in$ { 2 ; 3 ; 5 }.</li></ol>"
   ]
  },
  {
   "cell_type": "code",
   "execution_count": null,
   "metadata": {
    "collapsed": true
   },
   "outputs": [],
   "source": [
    "while True:\n",
    "    try:\n",
    "        a = int(input(\"a=?\"))\n",
    "        n = int(input(\"n=?\"))\n",
    "        print(a // n)\n",
    "    except:\n",
    "        break\n",
    "# /!\\ Terminer le programme en entrant 'stop' lorsqu'il demande 'a=?'"
   ]
  },
  {
   "cell_type": "markdown",
   "metadata": {},
   "source": [
    "<ol start=\"2\">\n",
    "  <li>Tester l'opération **`print(`**$a$ __`%`__ $n$**`)`** où $a$ est un entier et $n\\in$ { 2 ; 3 ; 5 }.</li></ol>"
   ]
  },
  {
   "cell_type": "code",
   "execution_count": null,
   "metadata": {
    "collapsed": true
   },
   "outputs": [],
   "source": [
    "while True:\n",
    "    try:\n",
    "        a = int(input(\"a=?\"))\n",
    "        n = int(input(\"n=?\"))\n",
    "        print(a % n)\n",
    "    except:\n",
    "        break\n",
    "# /!\\ Terminer le programme en entrant 'stop' lorsqu'il demande 'a=?'"
   ]
  },
  {
   "cell_type": "markdown",
   "metadata": {},
   "source": [
    "<ol start=\"3\">\n",
    "  <li>Que semblent être les opérations __`**`__, __`//`__ et __`%`__.</li></ol>\n",
    " \n",
    " On appellera *modulo* l'opération **`%`**. Par exemple, on dira 10 modulo 3 pour **`10 % 3`**."
   ]
  },
  {
   "cell_type": "markdown",
   "metadata": {},
   "source": [
    "---\n",
    "<!-- Solution\n",
    "\n",
    "\n",
    "3. ** : puissance, // : quotient de la division euclidienne, % reste de la division euclidienne\n",
    "\n",
    "\n",
    "-->"
   ]
  },
  {
   "cell_type": "markdown",
   "metadata": {},
   "source": [
    "### Exercice 9 - Mélange\n",
    "Qu’affiche le programme suivant ?\n",
    ">```python\n",
    "x = 1\n",
    "y = 2\n",
    "x = x + y\n",
    "y = x*y\n",
    "print(y)\n",
    "```"
   ]
  },
  {
   "cell_type": "markdown",
   "metadata": {},
   "source": [
    "---\n",
    "<!-- Solution\n",
    "\n",
    "\n",
    "x = 1      ## x=1, y non def\n",
    "y = 2      ## x=1, y=2\n",
    "x = x + y  ## x=3, y=2\n",
    "y = x*y    ## x=3, y=6\n",
    "print(y)   ## Affiche 6\n",
    "\n",
    "\n",
    "-->"
   ]
  },
  {
   "cell_type": "markdown",
   "metadata": {},
   "source": [
    "### Exercice 10 - Scratch\n",
    "Ouvrir [le projet scratch](https://scratch.mit.edu/projects/182351286/#editor).<br>\n",
    "Son but est de calculer l'aire d'un rectangle en fonction de ses dimensions.\n",
    "\n",
    "Le convertir en python dans la cellule suivante :"
   ]
  },
  {
   "cell_type": "code",
   "execution_count": null,
   "metadata": {
    "collapsed": true
   },
   "outputs": [],
   "source": [
    "# Utiliser les variables 'longueur', 'largeur' et 'aire'\n"
   ]
  },
  {
   "cell_type": "markdown",
   "metadata": {},
   "source": [
    "---\n",
    "<!-- Solution\n",
    "\n",
    "\n",
    "longueur = float(input(\"Quelle est la longueur en cm ?\"))\n",
    "largeur = float(input(\"Quelle est la largeur en cm ?\"))\n",
    "aire = longueur * largeur\n",
    "print(\"L'aire du rectangle est\", aire, \"cm²\")\n",
    "\n",
    "\n",
    "-->"
   ]
  },
  {
   "cell_type": "markdown",
   "metadata": {},
   "source": [
    "### Exercice 10\n",
    "\n",
    "Voici un programme de calcul :\n",
    "* Choisir un nombre,\n",
    "* Lui ajouter -5,\n",
    "* Doubler le résultat précédent,\n",
    "* Élever le résultat au carré,\n",
    "* Annoncer le résultat.\n",
    "\n",
    "Transformer le programme de calcul en un programme Python."
   ]
  },
  {
   "cell_type": "code",
   "execution_count": null,
   "metadata": {
    "collapsed": true
   },
   "outputs": [],
   "source": [
    "# Construire le programme ici\n"
   ]
  },
  {
   "cell_type": "markdown",
   "metadata": {},
   "source": [
    "---\n",
    "<!-- Solution\n",
    "\n",
    "\n",
    "x = float(input(\"Choisir un nombre : \"))\n",
    "x = x - 5   # ou x -= 5\n",
    "x = x * 2   # ou x *= 2\n",
    "x = x ** 2  # ou x **= 2\n",
    "print(x)\n",
    "\n",
    "\n",
    "-->"
   ]
  },
  {
   "cell_type": "markdown",
   "metadata": {},
   "source": [
    "### Exercice 11\n",
    "\n",
    "Voici un programme en Python :\n",
    ">```python\n",
    "x = 2\n",
    "x = 5*x\n",
    "x = 2*x - 15\n",
    "fx = x\n",
    "print(fx)\n",
    "```\n",
    "\n",
    "1. Quelle est la valeur de la variable **`fx`** en fin de programme ?\n",
    "1. On change la première ligne par **`x = input(\"x=?\")`**. Donner une expression de **`fx`** en fonction de **`x`**.\n"
   ]
  },
  {
   "cell_type": "code",
   "execution_count": null,
   "metadata": {
    "collapsed": true
   },
   "outputs": [],
   "source": [
    "x = float(input(\"x=?\"))\n",
    "fx = ### Expression en fonction de x\n",
    "print(fx)"
   ]
  },
  {
   "cell_type": "markdown",
   "metadata": {},
   "source": [
    "---\n",
    "<!-- Solution\n",
    "\n",
    "\n",
    "1. 5\n",
    "2. fx = 2*(5*x)-15\n",
    "\n",
    "\n",
    "-->"
   ]
  },
  {
   "cell_type": "markdown",
   "metadata": {},
   "source": [
    "### Exercice 12\n",
    "Dans un repère $(O;I;J)$, on place les points $A(x_A;y_A)$ et $B(x_B;y_B)$.\n",
    "\n",
    "Dans le language Python, on peut créer un couple de valeurs : il faut les mettre entre parenthèses et les séparer par des *virgules*.\n",
    "1. Compléter le programme suivant pour calculer les coordonnées du milieu $M$ du segment $[AB]$.\n",
    "1. Tester le programme avec les coordonnées :\n",
    "  * $A(-1\\ ; -5)$ et $B(-7\\ ; -3)$.\n",
    "  * $A(-8\\ ;\\ 6)$ et $B(8\\ ; -6)$.\n",
    "  * $A(10\\ ;\\ 20)$ et $B(10\\ ;\\ 20)$."
   ]
  },
  {
   "cell_type": "code",
   "execution_count": null,
   "metadata": {
    "collapsed": true
   },
   "outputs": [],
   "source": [
    "(x_A, y_A) = (1, 5)\n",
    "(x_B, y_B) = (7, 3)\n",
    "x_M = ### Abscisse de M\n",
    "y_M = ### Ordonnée de M\n",
    "M = (x_M, y_M)\n",
    "print(M)"
   ]
  },
  {
   "cell_type": "markdown",
   "metadata": {},
   "source": [
    "On suppose maintenant que le repère $(O;I;J)$ est orthonormé.\n",
    "<br>\n",
    "On rappelle que la longueur du segment $[AB]$ est donnée par la formule :\n",
    "$$AB = \\sqrt{\\left(x_B-x_A\\right)^2+\\left(y_B-y_A\\right)^2}$$\n",
    "<ol start=\"3\">\n",
    "  <li>Créer un programme qui calcule la longueur du segment $[AB]$.\n",
    "  <li>Tester le programme avec les coordonnées :\n",
    "    <ul>\n",
    "      <li>$A(-4\\ ; 9)$ et $B(7\\ ; 9)$.</li>\n",
    "      <li>$A(-3\\ ; -1)$ et $B(-3\\ ; 5)$.</li>\n",
    "      <li>$A(-11\\ ; 4)$ et $B(-11\\ ; 4)$.</li>\n",
    "    </ul>\n",
    "  </li></ol>"
   ]
  },
  {
   "cell_type": "code",
   "execution_count": null,
   "metadata": {
    "collapsed": true
   },
   "outputs": [],
   "source": [
    "from math import sqrt as racine # La fonction racine carrée est dans le module 'math'\n",
    "                                # et s'appelle 'sqrt'. Ici, elle est renommée 'racine'\n",
    "(x_A, y_A) = (3, -5)\n",
    "(x_B, y_B) = (7, -2)\n",
    "AB = ### Calcul de la longueur\n",
    "print(AB)"
   ]
  },
  {
   "cell_type": "markdown",
   "metadata": {},
   "source": [
    "---\n",
    "<!-- Solution\n",
    "\n",
    "\n",
    "1.\n",
    "(x_A, y_A) = (1, 5)\n",
    "(x_B, y_B) = (7, 3)\n",
    "x_M = (x_A + x_B) /2 ### Abscisse de M\n",
    "y_M = (y_A + y_B) /2 ### Ordonnée de M\n",
    "M = (x_M, y_M)\n",
    "print(M)             ## Affiche (4.0, 4.0)\n",
    "\n",
    "2. (-4.0, -4.0) (0.0, 0.0) (10.0, 20.0)\n",
    "\n",
    "3. \n",
    "from math import sqrt as racine\n",
    "(x_A, y_A) = (3, -5)\n",
    "(x_B, y_B) = (7, -2)\n",
    "AB = racine((x_B - x_A)**2 + (y_B - y_A)**2)\n",
    "print(AB)            ### Affiche 5.0\n",
    "\n",
    "4. Affiche 11.0, 6.0 et 0.0\n",
    "\n",
    "\n",
    "-->"
   ]
  },
  {
   "cell_type": "markdown",
   "metadata": {},
   "source": [
    "### Exercice 13\n",
    "\n",
    "On souhaite écrire un programme permettant de calculer l'indice de masse corporelle (IMC) d'un individu. Cet indice se calcule à l'aide de la formule : \n",
    "$$\\text{IMC}=\\frac{\\text{masse}}{\\text{taille}^2}$$\n",
    "où la taille est exprimée en $\\text{m}$ et la masse en $\\text{kg}$.\n",
    "\n",
    "Voici les étapes du programme en langage naturel :\n",
    "  * Demander la taille $t$.\n",
    "  * Demander la masse $m$.\n",
    "  * Calculer $\\text{IMC}=\\frac{m}{t^2}$.\n",
    "  * Donner la valeur de l'IMC.\n",
    "\n",
    "\n",
    "1. De quelles variables va-t-on avoir besoin ?\n",
    "1. Transcrire le programme en Python.\n",
    "1. Tester le programme avec les données suivantes :\n",
    "  * $1,70\\text{ m}$ pour $65\\text{ kg}$.\n",
    "  * $1,67\\text{ m}$ pour $71\\text{ kg}$.\n",
    "  * $2,04\\text{ m}$ pour $109\\text{ kg}$.\n",
    "  * $1,84\\text{ m}$ pour $74\\text{ kg}$.\n",
    "1. *(Facultatif)* Tester avec vos données biométriques personnelles.\n",
    "\n",
    ">L'Organisation Mondiale de la Santé a défini l'indice de masse corporelle pour évaluer les risques liés au surpoids ou à la maigreur. Un IMC *normal* est compris entre 18,5 et 25."
   ]
  },
  {
   "cell_type": "code",
   "execution_count": null,
   "metadata": {
    "collapsed": true
   },
   "outputs": [],
   "source": [
    "#---  Entrées   ---#\n",
    "\n",
    "\n",
    "#--- Traitement ---#\n",
    "\n",
    "\n",
    "#---   Sortie   ---#\n",
    "\n"
   ]
  },
  {
   "cell_type": "markdown",
   "metadata": {},
   "source": [
    "---\n",
    "<!-- Solution\n",
    "\n",
    "\n",
    "1. t et m\n",
    "\n",
    "2.\n",
    "t = float(input(\"Taille (en m) =?\"))\n",
    "m = float(input(\"Masse (en kg) =?\"))\n",
    "IMC = m / t**2\n",
    "print(\"L'IMC est :\", IMC)\n",
    "\n",
    "3. 22.49134948096886\n",
    "   25.458065904119906\n",
    "   26.191849288735103\n",
    "   21.85727788279773\n",
    "\n",
    "\n",
    "-->"
   ]
  },
  {
   "cell_type": "markdown",
   "metadata": {},
   "source": [
    "### Exercice 14\n",
    "\n",
    "Écrire un programme qui calcule la température en degrés Farenheit ($°F$) à partir de la température en degrés Celsius ($°C$).\n",
    "<br>\n",
    "Il devra comporter :\n",
    "* l'entrée (à l'aide de **`input`**),\n",
    "* le traitement sachant que $F=1,8\\times C + 32$, où $F$ et $C$ sont les températures respectives en degrés Farenheit et Celsius,\n",
    "* la sortie (à l'aide de **`print`**).\n",
    "\n",
    "Facultatif, incorporer une boucle comme celle de l'exercice 7, pour répéter la conversion."
   ]
  },
  {
   "cell_type": "code",
   "execution_count": null,
   "metadata": {
    "collapsed": true
   },
   "outputs": [],
   "source": [
    "#---   Entrée   ---#\n",
    "\n",
    "\n",
    "#--- Traitement ---#\n",
    "\n",
    "\n",
    "#---   Sortie   ---#\n",
    "\n"
   ]
  },
  {
   "cell_type": "markdown",
   "metadata": {},
   "source": [
    "---\n",
    "<!-- Solution\n",
    "\n",
    "\n",
    "while True:\n",
    "    try:\n",
    "        C = float(input(\"Température en °C ? \"))\n",
    "        F = 1.8*C + 32\n",
    "        print(\"La température est\", F, \"°F\")\n",
    "    except:\n",
    "        break\n",
    "\n",
    "\n",
    "-->"
   ]
  },
  {
   "cell_type": "markdown",
   "metadata": {},
   "source": [
    "### Fin des exercices"
   ]
  },
  {
   "cell_type": "code",
   "execution_count": null,
   "metadata": {
    "collapsed": true
   },
   "outputs": [],
   "source": [
    "# Espace de test pour aller plus loin\n",
    "\n"
   ]
  }
 ],
 "metadata": {
  "kernelspec": {
   "display_name": "Python 3",
   "language": "python",
   "name": "python3"
  },
  "language_info": {
   "codemirror_mode": {
    "name": "ipython",
    "version": 3
   },
   "file_extension": ".py",
   "mimetype": "text/x-python",
   "name": "python",
   "nbconvert_exporter": "python",
   "pygments_lexer": "ipython3",
   "version": "3.6.3"
  }
 },
 "nbformat": 4,
 "nbformat_minor": 2
}
