{
 "cells": [
  {
   "cell_type": "markdown",
   "metadata": {},
   "source": [
    "# Initiation à la programmation avec Python 3\n",
    "\n",
    "Le but est de faire ses premiers pas en programmation à l'aide d'un langage puissant mais facile d'accès.\n",
    "\n",
    "## Les booléens\n",
    "Les booléens représentent les valeurs logiques *Vrai* et *Faux*. Les booléen sont les résultats de tests logiques qui permettent les instructions conditionnelles.\n",
    "<br>\n",
    "Dans le langage Python, *Vrai* s'écrit **`True`** et *Faux* se note **`False`**. (Attention aux majuscules.)\n",
    "\n",
    "Les comparaisons retournent toujours un booléen :"
   ]
  },
  {
   "cell_type": "code",
   "execution_count": null,
   "metadata": {
    "collapsed": true
   },
   "outputs": [],
   "source": [
    "5 < 7"
   ]
  },
  {
   "cell_type": "code",
   "execution_count": null,
   "metadata": {
    "collapsed": true
   },
   "outputs": [],
   "source": [
    "10 >= 20 # '>=' veut dire 'supérieur ou égal à' "
   ]
  },
  {
   "cell_type": "code",
   "execution_count": null,
   "metadata": {
    "collapsed": true
   },
   "outputs": [],
   "source": [
    "\"Bonjour\" != \"Bonsoir\" # '!=' veut dire 'différent de'"
   ]
  },
  {
   "cell_type": "code",
   "execution_count": null,
   "metadata": {
    "collapsed": true
   },
   "outputs": [],
   "source": [
    "5 + 2 == 7 # '==' veut dire 'est égal à'\n",
    "# /!\\ le double égal '==' sert aux tests alors que le simple égal '=' sert à l'affectation"
   ]
  },
  {
   "cell_type": "code",
   "execution_count": null,
   "metadata": {
    "collapsed": true
   },
   "outputs": [],
   "source": [
    "while True:\n",
    "    try:\n",
    "        x = float(input(\"Note obtenue au contrôle ? \"))\n",
    "        print(0 <= x <= 20)  # <--- On peut facilement tester un encadrement\n",
    "        print('---\\n')\n",
    "    except:\n",
    "        break\n",
    "    \n",
    "### Pour sortir de la boucle, saisir autre chose qu'un nombre\n",
    "### Si un programme bloque en affichant 'In[*]', cliquer le menu 'Kernel' -> 'Restart & Clear Output'"
   ]
  },
  {
   "cell_type": "markdown",
   "metadata": {},
   "source": [
    "Le booléen **`True`** se comporte comme le nombre entier 1. De même, **`False`** se comporte comme 0. (Il n'y a pas besoin de transtyper en entier.)"
   ]
  },
  {
   "cell_type": "code",
   "execution_count": null,
   "metadata": {
    "collapsed": true
   },
   "outputs": [],
   "source": [
    "True + 2"
   ]
  },
  {
   "cell_type": "code",
   "execution_count": null,
   "metadata": {
    "collapsed": true
   },
   "outputs": [],
   "source": [
    "True == 1"
   ]
  },
  {
   "cell_type": "code",
   "execution_count": null,
   "metadata": {
    "collapsed": true
   },
   "outputs": [],
   "source": [
    "False * 7"
   ]
  },
  {
   "cell_type": "code",
   "execution_count": null,
   "metadata": {
    "collapsed": true
   },
   "outputs": [],
   "source": [
    "False == 0"
   ]
  },
  {
   "cell_type": "markdown",
   "metadata": {},
   "source": [
    "### Opérations **`and`**, **`or`** et **`not`**\n",
    "Il est possible de faire des opérations sur les booléens par exemple pour tester si les données vérifient plusieurs critères.\n",
    "\n",
    "L'opération **`and`** permet de tester si deux conditions sont simultanément remplies."
   ]
  },
  {
   "cell_type": "code",
   "execution_count": null,
   "metadata": {
    "collapsed": true
   },
   "outputs": [],
   "source": [
    "10 < 20 and \"Hello\" != \"Hi\""
   ]
  },
  {
   "cell_type": "code",
   "execution_count": null,
   "metadata": {
    "collapsed": true
   },
   "outputs": [],
   "source": [
    "7 == 3 and 8 == 8"
   ]
  },
  {
   "cell_type": "markdown",
   "metadata": {},
   "source": [
    "Voici la *Table de vérité* de l'opération **`and`** :\n",
    "\n",
    "| $a$  | $b$  | $a$ **`and`** $b$ |\n",
    "|:----:|:----:|:-----------------:|\n",
    "| False| False|     *False*       |\n",
    "| False| True |     *False*       |\n",
    "| True | False|     *False*       |\n",
    "| True | True |     **True**      |\n",
    "\n",
    "\n",
    "\n",
    "On peut combiner plusieurs **`and`** ensemble pour créer une condition complexe :"
   ]
  },
  {
   "cell_type": "code",
   "execution_count": null,
   "metadata": {
    "collapsed": true
   },
   "outputs": [],
   "source": [
    "print(\"Vérifions si vous êtes le chef de l'État...\")\n",
    "prenom = input(\"prénom=?\")\n",
    "nom = input(\"nom=?\")\n",
    "profession = input(\"profession=?\")\n",
    "prenom == \"Emmanuel\" and nom == \"MACRON\" and profession == \"président\""
   ]
  },
  {
   "cell_type": "markdown",
   "metadata": {
    "collapsed": true
   },
   "source": [
    "L'opération **`or`** est le \"ou\" logique, il permet de tester si l'une au moins des conditions est vérifiée.\n",
    "\n",
    ">Cette opération est aussi appelée *__OU inclusif__*. C'est à dire que si les deux conditions sont vraies, le **`or`** retournera vrai aussi.\n",
    "<br>\n",
    "<br>Il ne s'agit pas du *OU exclusif*, qui n'autorise qu'une seule des deux conditions à être vraie à la fois.\n",
    "<br>(Le *OU exclusif* est celui utilisé dans « fromage ou dessert » : pas le droit d'avoir les deux !)"
   ]
  },
  {
   "cell_type": "code",
   "execution_count": null,
   "metadata": {
    "collapsed": true
   },
   "outputs": [],
   "source": [
    "2 + 2 > 4 or 2 + 2 < 5"
   ]
  },
  {
   "cell_type": "code",
   "execution_count": null,
   "metadata": {
    "collapsed": true
   },
   "outputs": [],
   "source": [
    "2*1 == 2 or 2*1 == 3"
   ]
  },
  {
   "cell_type": "code",
   "execution_count": null,
   "metadata": {
    "collapsed": true
   },
   "outputs": [],
   "source": [
    "False or True"
   ]
  },
  {
   "cell_type": "code",
   "execution_count": null,
   "metadata": {
    "collapsed": true
   },
   "outputs": [],
   "source": [
    "1 !=2 or (\"Pierre\" == \"Paul\" and (0 == 0 or 2 == 2))"
   ]
  },
  {
   "cell_type": "markdown",
   "metadata": {},
   "source": [
    "Voici la *Table de vérité* de l'opération **`or`** :\n",
    "\n",
    "| $a$  | $b$  | $a$ **`or`** $b$ |\n",
    "|:----:|:----:|:----------------:|\n",
    "| False| False|     *False*      |\n",
    "| False| True |     **True**     |\n",
    "| True | False|     **True**     |\n",
    "| True | True |     **True**     |\n",
    "\n",
    "\n",
    "L'opération **`not`** consiste à inverser la valeur du booléen :"
   ]
  },
  {
   "cell_type": "code",
   "execution_count": null,
   "metadata": {
    "collapsed": true
   },
   "outputs": [],
   "source": [
    "not True"
   ]
  },
  {
   "cell_type": "code",
   "execution_count": null,
   "metadata": {
    "collapsed": true
   },
   "outputs": [],
   "source": [
    "not False"
   ]
  },
  {
   "cell_type": "code",
   "execution_count": null,
   "metadata": {
    "collapsed": true
   },
   "outputs": [],
   "source": [
    "test = (2 + 3 > 4) and (2 * 3 == 6)\n",
    "print(test, not test)"
   ]
  },
  {
   "cell_type": "markdown",
   "metadata": {},
   "source": [
    "Voici la *Table de vérité* de l'opération **`not`** :\n",
    "\n",
    "|  $a$ | **`not`** $a$ |\n",
    "|:----:|:-------------:|\n",
    "| False|   **True**    |\n",
    "| True |   *False*     |\n"
   ]
  },
  {
   "cell_type": "markdown",
   "metadata": {},
   "source": [
    "## Les instructions conditionnelles\n",
    "\n",
    "La stucture \"*Si ... alors ... sinon ...*\" permet d'exécuter des morceaux de code différents suivant si une condition est réalisée ou non. En python, la structure est de la forme :\n",
    ">```python\n",
    "if condition:     # <--- On met ':' à la fin de la ligne\n",
    "    # On démarre un bloc indenté (décalé de 4 espaces vers la droite)\n",
    "    # où l'on place toutes les instructions\n",
    "    # à exécuter lorsque la condition est vérifiée\n",
    "    instruction\n",
    "    instruction\n",
    "    # ...\n",
    "else:             # <--- le mot-clé 'else' est suivi de ':'\n",
    "    # On démarre là aussi un bloc indenté\n",
    "    instruction\n",
    "    instruction\n",
    "    # ...\n",
    "# on quitte le bloc lorsque l'on retour au tout début de la ligne\n",
    "```\n",
    "\n",
    "Voici un exemple :"
   ]
  },
  {
   "cell_type": "code",
   "execution_count": null,
   "metadata": {
    "collapsed": true
   },
   "outputs": [],
   "source": [
    "login = input(\"Quel est votre login ? \")    # On demande l'identifiant de l'utilisateur\n",
    "if login == \"hacker123\":                    # On teste si l'identifiant donné est 'hacker123'\n",
    "    print(\"813NV3NU3, H4CK3r !!!\")          #   Si c'est le cas, on écrit le message en 1337 5P34K (leet speak)\n",
    "else:                                       # Sinon\n",
    "    print(\"Bienvenue\", login, \"!\")          #   On écrit le message normalement\n",
    "activite =input(\"Que voulez-vous faire aujourd'hui \" + login + \" ? \")  # Cette ligne est toujours exécutée\n",
    "if activite != \"résoudre des équations\":   \n",
    "    activite = \"résoudre des équations puis de \" + activite   # On rajoute l'activité 'résoudre' si elle n'est pas présente\n",
    "print(\"---\\nVous avez choisi de\", activite) "
   ]
  },
  {
   "cell_type": "markdown",
   "metadata": {},
   "source": [
    "Il arrive souvent que l'on doive distinguer plusieurs cas.\n",
    "<br>\n",
    "Et un programme peut vite devenir illisible :"
   ]
  },
  {
   "cell_type": "code",
   "execution_count": null,
   "metadata": {
    "collapsed": true
   },
   "outputs": [],
   "source": [
    "choix = input(\"Quel plat avez-vous choisi ? \")\n",
    "if choix == \"sushi\":\n",
    "    print(\"Sushi -> tranche de poisson cru sur du riz avec une pointe de wasabi.\")\n",
    "else:\n",
    "    if choix == \"maki\":\n",
    "        print(\"Maki -> poisson cru et riz roulé dans une feuille d'algue.\")\n",
    "    else:\n",
    "        if choix == \"yakitori\":\n",
    "            print(\"Yakitori -> brochette cuite sur un barbecue japonais.\")\n",
    "        else:\n",
    "            if choix == \"sashimi\":\n",
    "                print(\"Sashimi -> fine tranche de poisson (sans riz).\")\n",
    "            else:\n",
    "                print(\"Indisponible, veuillez recommencer.\")"
   ]
  },
  {
   "cell_type": "markdown",
   "metadata": {},
   "source": [
    "Pour éviter cela, Python propose **`elif`** qui remplace **`else: if`**\n",
    "\n",
    "Voici le programme précédent avec des instructions **`elif`**"
   ]
  },
  {
   "cell_type": "code",
   "execution_count": null,
   "metadata": {
    "collapsed": true
   },
   "outputs": [],
   "source": [
    "choix = input(\"Quel plat avez-vous choisi ? \")\n",
    "if choix == \"sushi\":\n",
    "    print(\"Sushi -> tranche de poisson cru sur du riz avec une pointe de wasabi.\")\n",
    "elif choix == \"maki\":\n",
    "    print(\"Maki -> poisson cru et riz roulé dans une feuille d'algue.\")\n",
    "elif choix == \"yakitori\":\n",
    "    print(\"Yakitori -> brochette cuite sur un barbecue japonais.\")\n",
    "elif choix == \"sashimi\":\n",
    "    print(\"Sashimi -> fine tranche de poisson (sans riz).\")\n",
    "else:       # <--- On peut terminer par 'else:' pour prendre en compte tous les cas non traités\n",
    "    print(\"Indisponible, veuillez recommencer.\")"
   ]
  },
  {
   "cell_type": "markdown",
   "metadata": {},
   "source": [
    "Dans une structure **`if ... elif ... else ...`**, les tests peuvent porter sur des variables différentes :"
   ]
  },
  {
   "cell_type": "code",
   "execution_count": null,
   "metadata": {
    "collapsed": true
   },
   "outputs": [],
   "source": [
    "numero = int(input(\"Numéro choisi : \"))\n",
    "couleur = input(\"Couleur choisie : \")\n",
    "\n",
    "if couleur == \"rouge\":                                  # Tous les maillots rouges sont possibles, peu importe le numéro\n",
    "    print(\"Le maillot\", numero, couleur, \"est disponible sous 7 jours.\")\n",
    "elif numero > 20:                                       # Pour les autres couleurs, seuls les numéros <= 20 existent\n",
    "    print(\"Il n'y a pas de maillot\", numero, \"de la couleur\", couleur, \"!\")\n",
    "elif couleur not in [\"bleu\", \"vert\", \"jaune\"]:          # Seules les couleurs 'bleu', 'vert' et 'jaune' sont possibles\n",
    "    print(\"La couleur\", couleur, \"est indisponible.\")   #    (en plus du rouge)\n",
    "else:\n",
    "    # Le dernier cas prend en compte les maillots avec un numéro <=20 et une couleur 'bleu', 'vert' ou 'jaune'.\n",
    "    print(\"Le maillot\", numero, couleur, \"est disponible immédiatement.\")"
   ]
  },
  {
   "cell_type": "markdown",
   "metadata": {},
   "source": [
    "---\n",
    "Dans la cellule suivante, il est possible de faire d'autres tests."
   ]
  },
  {
   "cell_type": "code",
   "execution_count": null,
   "metadata": {
    "collapsed": true
   },
   "outputs": [],
   "source": [
    "## Espace pour faire d'autres tests  ##\n",
    "\n",
    "\n",
    "\n"
   ]
  },
  {
   "cell_type": "markdown",
   "metadata": {},
   "source": [
    "Ensuite, sauvegarder votre notebook (Menu **`File` $\\rightarrow$ `Download as` $\\rightarrow$ `Notebook (.ipynb)`**).\n",
    "<br>Ainsi qu'une version HTML (Menu **`File` $\\rightarrow$ `Download as` $\\rightarrow$ `HTML (.html)`**).\n",
    "\n",
    "Passer ensuite aux exercices [02b - Booléens et instructions conditionnelles - Exercices.ipynb](02b%20-%20Booléens%20et%20instructions%20conditionnelles%20-%20Exercices.ipynb)\n"
   ]
  }
 ],
 "metadata": {
  "kernelspec": {
   "display_name": "Python 3",
   "language": "python",
   "name": "python3"
  },
  "language_info": {
   "codemirror_mode": {
    "name": "ipython",
    "version": 3
   },
   "file_extension": ".py",
   "mimetype": "text/x-python",
   "name": "python",
   "nbconvert_exporter": "python",
   "pygments_lexer": "ipython3",
   "version": "3.6.3"
  }
 },
 "nbformat": 4,
 "nbformat_minor": 2
}
