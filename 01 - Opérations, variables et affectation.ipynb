{
 "cells": [
  {
   "cell_type": "markdown",
   "metadata": {},
   "source": [
    "# Initiation à la programmation avec Python 3\n",
    "\n",
    "Le but est de faire ses premiers pas en programmation à l'aide d'un langage puissant mais facile d'accès.\n",
    "\n",
    "## Les opérations\n",
    "Ci-dessous, on voit une case marquée **`In[ ]`**, c'est là où on va écrire du code.\n",
    "Testons les capacités de Python en tant que calculatrice :\n",
    "1. Taper **`5 + 7`** dans la cellule, puis **`Maj-Entrée`** pour entrer dans la cellule suivante.\n",
    "1. Taper **`5 * 7`** puis **`Maj-Entrée`**.\n",
    "\n",
    "(Taper **`Maj-Entrée`** exécute le code de la cellule.)"
   ]
  },
  {
   "cell_type": "code",
   "execution_count": null,
   "metadata": {
    "collapsed": false
   },
   "outputs": [],
   "source": [
    "# Une ligne commençant par '#' est un commentaire\n",
    "# et n'est pas du tout pris en compte par Python !\n",
    "#\n",
    "# Sur dernière ligne, écrire la somme de 5 et de 7 puis taper 'Maj-Entrée'\n"
   ]
  },
  {
   "cell_type": "code",
   "execution_count": null,
   "metadata": {
    "collapsed": true
   },
   "outputs": [],
   "source": [
    "# Écrire le produit de 5 et 7 puis taper 'Maj-Entrée'\n"
   ]
  },
  {
   "cell_type": "markdown",
   "metadata": {},
   "source": [
    "Comme on le constate, Python retourne les valeurs **`12`** et **`35`** dans des lignes **`Out[ ]`**\n",
    "\n",
    "Tester la division et la soustraction :"
   ]
  },
  {
   "cell_type": "code",
   "execution_count": null,
   "metadata": {
    "collapsed": false
   },
   "outputs": [],
   "source": [
    "# Cliquer dans la cellule et taper 'Maj-Entrée'\n",
    "5 - 7\n",
    "5 / 7"
   ]
  },
  {
   "cell_type": "markdown",
   "metadata": {},
   "source": [
    "Comme on peut le voir seul le second calcul est affiché en sortie.\n",
    "\n",
    "Deux solutions : utiliser deux cellules différentes ou bien demander l'affichage grâce à la fonction `print`"
   ]
  },
  {
   "cell_type": "code",
   "execution_count": null,
   "metadata": {
    "collapsed": false
   },
   "outputs": [],
   "source": [
    "# Avec print\n",
    "print(5 - 7)\n",
    "print(5 / 7)\n",
    "# Cliquer dans la cellule puis taper 'Maj-Entrée'"
   ]
  },
  {
   "cell_type": "markdown",
   "metadata": {},
   "source": [
    "En informatique, le type des données est très important. Les ordinateurs ne gèrent pas de la même manière les entiers et les \"flottants\" (similaires aux écritures scientifiques) qui représentent les réels.\n",
    "\n",
    "En Python, pour connaître le type d'un objet, la fonction **`type`** est très utile :"
   ]
  },
  {
   "cell_type": "code",
   "execution_count": null,
   "metadata": {
    "collapsed": false
   },
   "outputs": [],
   "source": [
    "# Tester les types :\n",
    "# Retirer successivement le '#' devant chacune des lignes suivantes et taper 'CTRL-Entrée'\n",
    "#type(5 - 7)\n",
    "#type(5 / 7)\n",
    "#type(1)\n",
    "#type(1.0)"
   ]
  },
  {
   "cell_type": "markdown",
   "metadata": {},
   "source": [
    "Remarquer que l'ordinateur distingue **`1`** et **`1.0`**, le premier étant un entier de type **`int`** alors que le second est un flottant de type **`float`**.\n",
    "\n",
    "Il est possible d'effectuer des conversions entre les types :\n",
    "1. **`int(`** *flottant* **`)`** donne la troncature de *flottant*.\n",
    "1. **`float(`** *entier* **`)`** convertit *entier* en flottant.\n",
    "\n",
    "Tester sur ces deux fonctions sur des nombres variés, en utilisant **`print`** :\n",
    "```python\n",
    "print(int(...))\n",
    "print(float(...))\n",
    "...\n",
    "```"
   ]
  },
  {
   "cell_type": "code",
   "execution_count": null,
   "metadata": {
    "collapsed": false
   },
   "outputs": [],
   "source": [
    "# Tester ici\n"
   ]
  },
  {
   "cell_type": "markdown",
   "metadata": {},
   "source": [
    "---\n",
    "## Les chaînes de caractères\n",
    "Une chaîne de caractères est un objet de type texte que l'on peut afficher, manipuler etc.\n",
    "Elles sont toujours encadrées par des guillemets simples ou doubles.\n",
    "\n",
    "Testons le programme classique *Hello World!*\n",
    "```python\n",
    "print(\"Hello World!\")\n",
    "```\n"
   ]
  },
  {
   "cell_type": "code",
   "execution_count": null,
   "metadata": {
    "collapsed": false,
    "scrolled": false
   },
   "outputs": [],
   "source": [
    "# Recopier le programme ci-dessus"
   ]
  },
  {
   "cell_type": "markdown",
   "metadata": {},
   "source": [
    "Remarquer que les guillemets disparaissent à l'affichage.\n",
    "\n",
    "Pour intégrer des apostophes dans un texte :\n",
    "1. **`\"T'as vu l'apostrophe\"`**\n",
    "1. **`'T\\'as vu l\\'apostrophe'`**\n",
    "1. **`'''T'as vu l'apostrophe'''`**\n",
    "\n",
    "Donnent tous le même résultat :"
   ]
  },
  {
   "cell_type": "code",
   "execution_count": null,
   "metadata": {
    "collapsed": false
   },
   "outputs": [],
   "source": [
    "# Cliquer dans la cellule puis taper 'Maj-Entrée'\n",
    "print(\"T'as vu l'apostrophe\")\n",
    "print('T\\'as vu l\\'apostrophe')\n",
    "print('''T'as vu l'apostrophe''')"
   ]
  },
  {
   "cell_type": "markdown",
   "metadata": {},
   "source": [
    "Le caractère **`\\`** (la barre oblique inversée, en anglais *backslash*) permet d'écrire des caractères spéciaux.\n",
    "\n",
    "Pour des guillemets :\n",
    "1. **`'Hello \"Monde\" !'`**\n",
    "1. **`\"Hello \\\"Monde\\\" !\"`**\n",
    "1. **`\"\"\"Hello \"Monde\" !\"\"\"`**\n",
    "\n",
    "produisent tous le même affichage :"
   ]
  },
  {
   "cell_type": "code",
   "execution_count": null,
   "metadata": {
    "collapsed": false,
    "scrolled": true
   },
   "outputs": [],
   "source": [
    "# Cliquer dans la cellule puis taper 'Maj-Entrée'\n",
    "print('Hello \"Monde\" !')\n",
    "print(\"Hello \\\"Monde\\\" !\")\n",
    "print(\"\"\"Hello \"Monde\" !\"\"\")"
   ]
  },
  {
   "cell_type": "markdown",
   "metadata": {},
   "source": [
    "Il est possible d'utiliser des chaînes de caractères dans des opérations :"
   ]
  },
  {
   "cell_type": "code",
   "execution_count": null,
   "metadata": {
    "collapsed": false
   },
   "outputs": [],
   "source": [
    "### --> Pour voir le résultat d'un programme, cliquer dans la cellule puis 'Maj-Entrée' ou 'CRTL-Entrée' <-- ###\n",
    "# Mise bout à bout de deux chaînes (concaténation)\n",
    "\"py\" + \"thon\""
   ]
  },
  {
   "cell_type": "code",
   "execution_count": null,
   "metadata": {
    "collapsed": false
   },
   "outputs": [],
   "source": [
    "# Répétition d'une chaîne\n",
    "\"Hip ! \" * 3 + \"Hourra !\""
   ]
  },
  {
   "cell_type": "markdown",
   "metadata": {},
   "source": [
    "Par contre les opérations suivantes donnent toutes une erreur :"
   ]
  },
  {
   "cell_type": "code",
   "execution_count": null,
   "metadata": {
    "collapsed": false
   },
   "outputs": [],
   "source": [
    "# Tester : (décommenter une des lignes puis 'CRTL-Entrée')\n",
    "#\"Abracabra\" - \"bra\"\n",
    "#\"x^2\" / \"3x\"\n",
    "#\"12\" + 3"
   ]
  },
  {
   "cell_type": "markdown",
   "metadata": {},
   "source": [
    "Certains résultats sont surprenants :"
   ]
  },
  {
   "cell_type": "code",
   "execution_count": null,
   "metadata": {
    "collapsed": false
   },
   "outputs": [],
   "source": [
    "# Tester :\n",
    "#\"3\" + \"4\"\n",
    "#\"3\" *  4\n",
    "#3 * \"4\""
   ]
  },
  {
   "cell_type": "markdown",
   "metadata": {},
   "source": [
    "---\n",
    "## Variables\n",
    "\n",
    "En informatique, on peut garder la trace d'un calcul, d’un texte, etc. dans un emplacement mémoire. On utilise pour cela une **variable** qui permet d’utiliser un nom choisi pour accéder au contenu d’un emplacement mémoire.  C’est un peu comme une boîte dans laquelle on peut placer un résultat ou en consulter le contenu.\n",
    "\n",
    "Placer une valeur dans une variable s’appelle l’affectation de la valeur à la variable. Consulter le contenu de la variable est la lecture de cette variable.\n",
    "\n",
    "Pour affecter une valeur à une variable, il suffit de choisir un nom (suite de caractères alphanumériques commençant par une lettre) suivi du signe égal, puis la valeur.\n",
    "\n",
    "On peut utiliser la valeur d’une variable dans un calcul.\n",
    "\n",
    "Par exemple, le programme suivant utilise deux variables **`a`** et **`b`**\n",
    "```python\n",
    "a = 3\n",
    "print(a)\n",
    "b = a + 2\n",
    "print(b)\n",
    "a = b\n",
    "print(a, b, a*b)\n",
    "```\n",
    "Essayer de deviner l'affichage du programme puis l'exécuter :"
   ]
  },
  {
   "cell_type": "code",
   "execution_count": null,
   "metadata": {
    "collapsed": false
   },
   "outputs": [],
   "source": [
    "a = 3\n",
    "print(a)\n",
    "b = a + 2\n",
    "print(b)\n",
    "a = b\n",
    "print(a, b, a*b)"
   ]
  },
  {
   "cell_type": "markdown",
   "metadata": {},
   "source": [
    "Attention le signe **`=`** qui sert à l'affectation est beaucoup moins fort que celui de l'égalité mathématique. Dans l'instruction **`b = a + 2`**, le calcul est fait au moment où l'instruction est reçue, si la variable **`a`** est modifiée, la valeur de **`b`** ne l'est pas :"
   ]
  },
  {
   "cell_type": "code",
   "execution_count": null,
   "metadata": {
    "collapsed": false
   },
   "outputs": [],
   "source": [
    "a = 5      # a vaut 5\n",
    "b = a + 2  # a vaut 5 et b vaut 7\n",
    "a = 3      # a vaut 3 et b vaut toujours 7\n",
    "print(a, b)"
   ]
  },
  {
   "cell_type": "markdown",
   "metadata": {},
   "source": [
    "Il est possible de modifier une variable à partir de sa valeur actuelle :"
   ]
  },
  {
   "cell_type": "code",
   "execution_count": null,
   "metadata": {
    "collapsed": false
   },
   "outputs": [],
   "source": [
    "a = 5\n",
    "a = a + 2\n",
    "print(a)"
   ]
  },
  {
   "cell_type": "markdown",
   "metadata": {},
   "source": [
    "On s'aperçoit que Python va d'abord lire le contenu de **`a`**, ajouter 2 à cette valeur puis stocker le résultat au même emplacement mémoire : dans la variable **`a`**.\n",
    "\n",
    "Comme en mathématiques, les noms de variables sont sensibles à la casse (majuscules/minuscules) :"
   ]
  },
  {
   "cell_type": "code",
   "execution_count": null,
   "metadata": {
    "collapsed": false
   },
   "outputs": [],
   "source": [
    "A = 5\n",
    "a = 2\n",
    "print(A)\n",
    "print(a)"
   ]
  },
  {
   "cell_type": "markdown",
   "metadata": {},
   "source": [
    "Certains mots sont réservés pour les instructions Python et ne peuvent pas être choisis."
   ]
  },
  {
   "cell_type": "code",
   "execution_count": null,
   "metadata": {
    "collapsed": false
   },
   "outputs": [],
   "source": [
    "#if = 7\n",
    "#print(if)"
   ]
  },
  {
   "cell_type": "markdown",
   "metadata": {},
   "source": [
    "Pour demander à l’utilisateur de rentrer des données, on utilise input. Cette fonction renvoie une chaîne de caractères.\n",
    "\n",
    "Tester le programme suivant :\n",
    "```python\n",
    "age = input(\"Quel âge as-tu ?\")  # On répondra 15\n",
    "print(age, \"ans !\")\n",
    "print(\"Tu as déjà \" + age + \" ans ?\")\n",
    "```"
   ]
  },
  {
   "cell_type": "code",
   "execution_count": null,
   "metadata": {
    "collapsed": true
   },
   "outputs": [],
   "source": [
    "# Tester le programme\n"
   ]
  },
  {
   "cell_type": "markdown",
   "metadata": {},
   "source": [
    "Examinons le type d'une chaîne de caractère :"
   ]
  },
  {
   "cell_type": "code",
   "execution_count": null,
   "metadata": {
    "collapsed": false
   },
   "outputs": [],
   "source": [
    "age = \"15\"\n",
    "type(age)"
   ]
  },
  {
   "cell_type": "markdown",
   "metadata": {},
   "source": [
    "Le type **`str`** correspond aux chaînes de caractères (*string* en anglais).\n",
    "Pour convertir une chaîne en nombre, on peut utiliser les fonctions **`int`** ou **`float`** vues plus haut :"
   ]
  },
  {
   "cell_type": "code",
   "execution_count": null,
   "metadata": {
    "collapsed": false
   },
   "outputs": [],
   "source": [
    "age = \"15\"\n",
    "age_entier = int(age)\n",
    "age_flottant = float(age)\n",
    "print(age_entier)\n",
    "print(age_flottant)"
   ]
  },
  {
   "cell_type": "code",
   "execution_count": null,
   "metadata": {
    "collapsed": true
   },
   "outputs": [],
   "source": [
    "## Espace pour faire d'autres tests  ##\n",
    "\n",
    "\n",
    "\n"
   ]
  }
 ],
 "metadata": {
  "celltoolbar": "Raw Cell Format",
  "kernelspec": {
   "display_name": "Python 3",
   "language": "python",
   "name": "python3"
  },
  "language_info": {
   "codemirror_mode": {
    "name": "ipython",
    "version": 3
   },
   "file_extension": ".py",
   "mimetype": "text/x-python",
   "name": "python",
   "nbconvert_exporter": "python",
   "pygments_lexer": "ipython3",
   "version": "3.6.0"
  }
 },
 "nbformat": 4,
 "nbformat_minor": 2
}
