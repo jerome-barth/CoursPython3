{
 "cells": [
  {
   "cell_type": "markdown",
   "metadata": {},
   "source": [
    "# Opérations, variables et affectation - Exercices\n",
    "Exercices pour maîtriser les premières notions\n",
    "\n",
    "---"
   ]
  },
  {
   "cell_type": "markdown",
   "metadata": {},
   "source": [
    "### Exercice 1 - Avec 3 variables\n",
    "Qu'affiche le programme suivant :\n",
    ">```python\n",
    "x = 2\n",
    "y = -3\n",
    "z = x + y\n",
    "print(2*z)\n",
    "```\n",
    "\n",
    "Le vérifier dans la cellule ci-dessous"
   ]
  },
  {
   "cell_type": "code",
   "execution_count": null,
   "metadata": {
    "collapsed": true
   },
   "outputs": [],
   "source": [
    "# Vérification exercice 1"
   ]
  },
  {
   "cell_type": "markdown",
   "metadata": {},
   "source": [
    "---"
   ]
  },
  {
   "cell_type": "markdown",
   "metadata": {},
   "source": [
    "### Exercice 2 - Les types\n",
    "On considère le programme suivant :\n",
    ">```python\n",
    "a = 10         # ligne 1\n",
    "b = \"Toto\"     # ligne 2\n",
    "c = b          # ligne 3\n",
    "b = 2          # ligne 4\n",
    "print(c, a/b)  # ligne 5\n",
    "```\n",
    "\n",
    "1. Quel est le type de **`a`** dans la ligne 1 ?\n",
    "1. Quel est le type de **`b`** dans la ligne 2 ?\n",
    "1. Quel est le type de **`a/b`** dans la ligne 5 ?\n",
    "1. Quel affichage produit ce programme ?"
   ]
  },
  {
   "cell_type": "code",
   "execution_count": null,
   "metadata": {
    "collapsed": false
   },
   "outputs": [],
   "source": [
    "# Vérification exercice 2"
   ]
  },
  {
   "cell_type": "markdown",
   "metadata": {},
   "source": [
    "---"
   ]
  },
  {
   "cell_type": "markdown",
   "metadata": {},
   "source": [
    "### Exercice 3 - Entrées et types\n",
    "La fonction **`input`** permet de demander à l'utilisateur de rentrer une donnée au clavier.<br>\n",
    "Généralement, on affecte le résultat de **`input`** à une variable.\n",
    "\n",
    "Par exemple :"
   ]
  },
  {
   "cell_type": "code",
   "execution_count": null,
   "metadata": {
    "collapsed": false
   },
   "outputs": [],
   "source": [
    "NomUtilisateur = input(\"Quel est votre nom ? \")\n",
    "print(\"Bonjour\", NomUtilisateur, \"!\")"
   ]
  },
  {
   "cell_type": "markdown",
   "metadata": {},
   "source": [
    "Dans le programme suivant, vérifier que quelque soit la réponse donnée, le type de la variable est toujours le même."
   ]
  },
  {
   "cell_type": "code",
   "execution_count": null,
   "metadata": {
    "collapsed": false
   },
   "outputs": [],
   "source": [
    "# Cliquer dans la cellule puis 'CTRL-Entrée'pour relancer l'exécution\n",
    "test_type = input(\"Quelle valeur voulez-vous tester ? \")\n",
    "type(test_type)"
   ]
  },
  {
   "cell_type": "markdown",
   "metadata": {},
   "source": [
    "---"
   ]
  },
  {
   "cell_type": "markdown",
   "metadata": {},
   "source": [
    "### Exercice 4 - Transtypage\n",
    "On peut utiliser les fonctions de changement de type **`int`** et **`float`**.<br>\n",
    "1. Tester ces deux fonctions en fournissant des valeurs variées :"
   ]
  },
  {
   "cell_type": "code",
   "execution_count": null,
   "metadata": {
    "collapsed": false
   },
   "outputs": [],
   "source": [
    "# Cliquer dans la cellule puis 'CTRL-Entrée'pour relancer l'exécution\n",
    "test_int = int(input(\"Quelle valeur voulez-vous tester ? \"))  # Tentative de conversion en entier\n",
    "print(test_int)\n",
    "type(test_int)"
   ]
  },
  {
   "cell_type": "code",
   "execution_count": null,
   "metadata": {
    "collapsed": false
   },
   "outputs": [],
   "source": [
    "# Cliquer dans la cellule puis 'CTRL-Entrée'pour relancer l'exécution\n",
    "test_float = float(input(\"Quelle valeur voulez-vous tester ? \"))  # Tentative de conversion en flottant\n",
    "print(test_float)\n",
    "type(test_float)"
   ]
  },
  {
   "cell_type": "markdown",
   "metadata": {},
   "source": [
    "<ol start=\"2\">\n",
    "  <li>Dans le programme précédent, tester les réponses comme **`1e2`**, **`5e-3`** et **`0.00001`** et interpréter les résultats obtenus.</li></ol>\n",
    "\n",
    "---\n",
    "\n",
    "Les erreurs d'exécution provoquent l'arrêt du programme. Il est possible de les intercepter (pour par exemple refaire la saisie).\n",
    "\n",
    "\n",
    "À titre d'exemple, voici une méthode pour intercepter une erreur et faire recommencer l'utilisateur."
   ]
  },
  {
   "cell_type": "code",
   "execution_count": null,
   "metadata": {
    "collapsed": false
   },
   "outputs": [],
   "source": [
    "while True:\n",
    "    try:\n",
    "        nombre_entier = int(input(\"Entrez un nombre entier : \"))\n",
    "        break\n",
    "    except:\n",
    "        print(\"/!\\\\ Veuillez recommencer, vous n'avez pas donné un nombre entier !\")"
   ]
  },
  {
   "cell_type": "markdown",
   "metadata": {
    "collapsed": false
   },
   "source": [
    "---"
   ]
  },
  {
   "cell_type": "markdown",
   "metadata": {},
   "source": [
    "### Exercice 5 - Moyenne\n",
    "\n",
    "1. Réaliser un programme qui calcule la moyenne de 3 notes :"
   ]
  },
  {
   "cell_type": "code",
   "execution_count": null,
   "metadata": {
    "collapsed": false
   },
   "outputs": [],
   "source": [
    "#---  Saisies  ---#\n",
    "### /!\\ Ne pas tenir compte des erreurs de saisie\n",
    "### /!\\ Il faut transtyper en 'float'\n",
    "\n",
    "\n",
    "\n",
    "#---   Calcul  ---#\n",
    "\n",
    "#--- Affichage ---#\n",
    "### Afficher le message \"La moyenne des 3 notes est :\" suivi de la valeur calculée\n"
   ]
  },
  {
   "cell_type": "markdown",
   "metadata": {},
   "source": [
    "<ol start=\"2\">\n",
    "  <li>Tester le programme réalisé avec les jeux de données suivantes :\n",
    "* Jeu 1 : **`10`** ; **`10`** et **`10`**.\n",
    "* Jeu 2 : **`0`** ; **`10`** et **`20`**.\n",
    "* Jeu 3 : **`-10`** ; **`10`** et **`30`**.\n",
    "</li></ol><br>\n",
    "Dans chaque cas, la moyenne $\\overline{m}$ doit être égale à 10."
   ]
  },
  {
   "cell_type": "markdown",
   "metadata": {},
   "source": [
    "---"
   ]
  },
  {
   "cell_type": "markdown",
   "metadata": {},
   "source": [
    "### Exercice 6 - Swap\n",
    "1. Que fait ce programme écrit en langage naturel ?\n",
    " * Demander \"x=?\" et stocker la réponse dans une variable *x*.\n",
    " * Demander \"y=?\" et stocker la réponse dans une variable *y*.\n",
    " * Affecter la valeur *x* à une variable *z*.\n",
    " * Affecter la valeur *y* à la variable *x*.\n",
    " * Affecter la valeur *z* à la variable *y*.\n",
    " * Afficher *x* et *y*.\n",
    "<br><br>\n",
    "1. Le traduire en python puis le tester sur plusieurs exemples."
   ]
  },
  {
   "cell_type": "code",
   "execution_count": null,
   "metadata": {
    "collapsed": true
   },
   "outputs": [],
   "source": [
    "# Faire le programme ici"
   ]
  },
  {
   "cell_type": "markdown",
   "metadata": {},
   "source": [
    "---"
   ]
  },
  {
   "cell_type": "markdown",
   "metadata": {},
   "source": [
    "### Exercice 7 - Du calcul littéral\n",
    "Voici un programme en python\n",
    ">```python\n",
    "n = int(input(\"n=?\"))\n",
    "a = 2/n\n",
    "b = 1/n + 1/(2*n) + 1/(3*n) + 1/(6*n) # Les parenthèses sont obligatoires ici !\n",
    "print(a, b)\n",
    "print(a == b)   # Le double égal dénote un test logique\n",
    "```\n",
    "\n",
    "Il produit l'affichage suivant :\n",
    ">```\n",
    "n=?99\n",
    "0.020202020202020204 0.0202020202020202\n",
    "False\n",
    "```\n",
    "\n",
    "1. Quel nombre a été choisi dans cet exemple ?\n",
    "1. Calculer $\\frac{1}{n}+\\frac{1}{2n}+\\frac{1}{3n}+\\frac{1}{6n}$.\n",
    "1. Émettre une hypothèse concernant les résultats de programme."
   ]
  },
  {
   "cell_type": "code",
   "execution_count": null,
   "metadata": {
    "collapsed": false
   },
   "outputs": [],
   "source": [
    "# Espace de test\n",
    "while True:\n",
    "    try:\n",
    "        n = int(input(\"n=?\"))\n",
    "        a = 2/n\n",
    "        b = 1/n + 1/(2*n) + 1/(3*n) + 1/(6*n)\n",
    "        print(a, b)\n",
    "        print(a == b)\n",
    "    except:\n",
    "        break\n",
    "# /!\\ Terminer le programme en entrant 'stop' lorsqu'il demande 'n=?'"
   ]
  },
  {
   "cell_type": "markdown",
   "metadata": {},
   "source": [
    "---"
   ]
  },
  {
   "cell_type": "markdown",
   "metadata": {},
   "source": [
    "### Exercice 8 - D'autres opérations\n",
    "1. Tester l'opération **`print(`**$a$__`**`__$n$**`)`** où $a$ et $n$ sont des entiers entre 0 et 5."
   ]
  },
  {
   "cell_type": "code",
   "execution_count": null,
   "metadata": {
    "collapsed": false
   },
   "outputs": [],
   "source": [
    "while True:\n",
    "    try:\n",
    "        a = int(input(\"a=?\"))\n",
    "        n = int(input(\"n=?\"))\n",
    "        print(a**n)\n",
    "    except:\n",
    "        break\n",
    "# /!\\ Terminer le programme en entrant 'stop' lorsqu'il demande 'a=?'"
   ]
  },
  {
   "cell_type": "markdown",
   "metadata": {},
   "source": [
    "<ol start=\"2\">\n",
    "  <li>Tester l'opération **`print(`**$a$ __`//`__ $n$**`)`** où $a$ est un entier et $n\\in$ { 2 ; 3 ; 5 }.</li></ol>"
   ]
  },
  {
   "cell_type": "code",
   "execution_count": null,
   "metadata": {
    "collapsed": false
   },
   "outputs": [],
   "source": [
    "while True:\n",
    "    try:\n",
    "        a = int(input(\"a=?\"))\n",
    "        n = int(input(\"n=?\"))\n",
    "        print(a // n)\n",
    "    except:\n",
    "        break\n",
    "# /!\\ Terminer le programme en entrant 'stop' lorsqu'il demande 'a=?'"
   ]
  },
  {
   "cell_type": "markdown",
   "metadata": {},
   "source": [
    "<ol start=\"2\">\n",
    "  <li>Tester l'opération **`print(`**$a$ __`%`__ $n$**`)`** où $a$ est un entier et $n\\in$ { 2 ; 3 ; 5 }.</li></ol>"
   ]
  },
  {
   "cell_type": "code",
   "execution_count": null,
   "metadata": {
    "collapsed": false
   },
   "outputs": [],
   "source": [
    "while True:\n",
    "    try:\n",
    "        a = int(input(\"a=?\"))\n",
    "        n = int(input(\"n=?\"))\n",
    "        print(a % n)\n",
    "    except:\n",
    "        break\n",
    "# /!\\ Terminer le programme en entrant 'stop' lorsqu'il demande 'a=?'"
   ]
  },
  {
   "cell_type": "markdown",
   "metadata": {},
   "source": [
    "<ol start=\"3\">\n",
    "  <li>Que semblent être les opérations __`**`__, __`//`__ et __`%`__.</li></ol>\n",
    " \n",
    " On appellera *modulo* l'opération **`%`**. Par exemple, on dira 10 modulo 3 pour **`10 % 3`**."
   ]
  },
  {
   "cell_type": "markdown",
   "metadata": {},
   "source": [
    "---"
   ]
  },
  {
   "cell_type": "markdown",
   "metadata": {},
   "source": [
    "### Exercice 9 - \n",
    "Qu’affiche le programme suivant ?\n",
    ">```python\n",
    "x = 1\n",
    "y = 2\n",
    "x = x + y\n",
    "y = x*y\n",
    "print(y)\n",
    "```"
   ]
  }
 ],
 "metadata": {
  "kernelspec": {
   "display_name": "Python 3",
   "language": "python",
   "name": "python3"
  },
  "language_info": {
   "codemirror_mode": {
    "name": "ipython",
    "version": 3
   },
   "file_extension": ".py",
   "mimetype": "text/x-python",
   "name": "python",
   "nbconvert_exporter": "python",
   "pygments_lexer": "ipython3",
   "version": "3.6.0"
  }
 },
 "nbformat": 4,
 "nbformat_minor": 2
}
